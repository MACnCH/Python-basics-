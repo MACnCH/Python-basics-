{
 "cells": [
  {
   "cell_type": "markdown",
   "metadata": {},
   "source": [
    "## Practical Session 6 - scraping the web with urllib3 and beautifulsoup\n",
    "\n",
    "Students (pair):\n",
    "- [MIFDAL Oussama]([link](https://github.com/username1))\n",
    "- [LAMSAOUB Mohamed]([link](https://github.com/username2))"
   ]
  },
  {
   "cell_type": "markdown",
   "metadata": {},
   "source": [
    "**Useful references for this lab**:\n",
    "\n",
    "[1] `urllib3`: [documentation](https://urllib3.readthedocs.io/en/latest/)\n",
    "\n",
    "[2] `beautifulsoup4`: [documentation](https://www.crummy.com/software/BeautifulSoup/bs4/doc/) \n",
    "\n",
    "\n",
    "## <a name=\"content\">Contents</a>\n",
    "- [Exercise 1: Parsing the content of a web page](#ex1)\n",
    "- [Exercise 2: Extracting information from Wikipedia](#ex2)\n",
    "---"
   ]
  },
  {
   "cell_type": "markdown",
   "metadata": {},
   "source": [
    " This notebook is aimed at introducing Python functions and library to automatically collect data from static web pages. In particular, this session will be devoted to the `urllib3` and `Beautiful Soup` packages.\n",
    "\n",
    " Other useful packages in this context:\n",
    " - `os` & `sys` to issue system instructions;\n",
    " - `re` for [**r**egular **e**xpressions when manipulating text strings](https://docs.python.org/3/library/re.html). The test the validity of a regular expression;\n",
    " - `datetime` to interact with dates & times."
   ]
  },
  {
   "cell_type": "code",
   "execution_count": 1,
   "metadata": {},
   "outputs": [],
   "source": [
    "%matplotlib inline"
   ]
  },
  {
   "cell_type": "code",
   "execution_count": 11,
   "metadata": {},
   "outputs": [
    {
     "name": "stdout",
     "output_type": "stream",
     "text": [
      "The autoreload extension is already loaded. To reload it, use:\n",
      "  %reload_ext autoreload\n"
     ]
    }
   ],
   "source": [
    "import os\n",
    "import re\n",
    "import sys\n",
    "from datetime import date, datetime\n",
    "\n",
    "import urllib3\n",
    "from bs4 import BeautifulSoup\n",
    "\n",
    "%load_ext autoreload\n",
    "%autoreload 2"
   ]
  },
  {
   "cell_type": "markdown",
   "metadata": {},
   "source": [
    " To take Centrale Lille's proxy into account:"
   ]
  },
  {
   "cell_type": "code",
   "execution_count": 12,
   "metadata": {},
   "outputs": [],
   "source": [
    "# If proxy : to get out through Centrale Lille's proxy\n",
    "\n",
    "centrale_proxy = False\n",
    "if centrale_proxy:\n",
    "    proxy = urllib3.ProxyManager(\"http://cache.ec-lille.fr:3128\")\n",
    "else:\n",
    "    proxy = urllib3.PoolManager()\n",
    "\n",
    "# See https://stackoverflow.com/questions/40490187/get-proxy-address-on-auto-proxy-discovery-mode-on-mac-os-x\n",
    "# scutil --proxy"
   ]
  },
  {
   "cell_type": "markdown",
   "metadata": {},
   "source": [
    "## <a name=\"ex1\">Exercise/example 1: parsing the content of a web page</a> [(&#8593;)](#content)\n",
    "\n",
    "This example consits in retrieving the version number of the Beautiful Soup package, appearing in the top left corner of the associated [documentation webpage](https://www.crummy.com/software/BeautifulSoup/bs4/doc/). To do this, you can for isntance use the following instructions."
   ]
  },
  {
   "cell_type": "code",
   "execution_count": 3,
   "metadata": {},
   "outputs": [],
   "source": [
    "# from urllib3.request import urlopen\n",
    "response = proxy.request(\n",
    "    \"GET\", \"https://www.crummy.com/software/BeautifulSoup/bs4/doc/\"\n",
    ")"
   ]
  },
  {
   "cell_type": "markdown",
   "metadata": {},
   "source": [
    " Transform content into formatted text:"
   ]
  },
  {
   "cell_type": "code",
   "execution_count": 4,
   "metadata": {},
   "outputs": [],
   "source": [
    "utf8_text = response.data.decode(\"utf-8\")\n",
    "# print(utf8_text)"
   ]
  },
  {
   "cell_type": "markdown",
   "metadata": {},
   "source": [
    " Look for the version number and print it:"
   ]
  },
  {
   "cell_type": "code",
   "execution_count": 5,
   "metadata": {},
   "outputs": [
    {
     "name": "stdout",
     "output_type": "stream",
     "text": [
      "Beautiful Soup 4.9.0\n"
     ]
    }
   ],
   "source": [
    "# Search data using Regex (regular expressions)\n",
    "# Test regex http://regexr.com\n",
    "regex = \"Beautiful Soup (\\d\\.){2}(\\d)\"  # looking for version number under the form Beautiful Soup 4.9.0\n",
    "web_text = re.search(regex, utf8_text)\n",
    "print(web_text.group(0))"
   ]
  },
  {
   "cell_type": "markdown",
   "metadata": {},
   "source": [
    "1\\. Extract only the version number from the same page.\n",
    "\n",
    "> Hint: two useful pages about regular expressions (regexp): [tutorial](https://www.lucaswillems.com/fr/articles/25/tutoriel-pour-maitriser-les-expressions-regulieres), [verifying validity of an expression](http://regexr.com)."
   ]
  },
  {
   "cell_type": "markdown",
   "metadata": {},
   "source": [
    "Your answers(s)"
   ]
  },
  {
   "cell_type": "code",
   "execution_count": 6,
   "metadata": {},
   "outputs": [
    {
     "name": "stdout",
     "output_type": "stream",
     "text": [
      "4.12.0\n"
     ]
    }
   ],
   "source": [
    "# your code\n",
    "\n",
    "# Let's extract the version mentioned at the top left.\n",
    "\n",
    "pattern_of_version = r\"\\d+\\.\\d+\\.\\d+\"  \n",
    "\n",
    "web_text = re.search(pattern_of_version, utf8_text)\n",
    "\n",
    "print(web_text.group(0))"
   ]
  },
  {
   "cell_type": "markdown",
   "metadata": {},
   "source": [
    "2\\. Take a look at the quickstart page of [`Beautiful Soup` (bs4 package)](https://www.crummy.com/software/BeautifulSoup/bs4/doc/), and use this library to retrieve the same information."
   ]
  },
  {
   "cell_type": "markdown",
   "metadata": {},
   "source": [
    "> Hint:\n",
    "> - [this page on Beautiful Soup](https://www.crummy.com/software/BeautifulSoup/bs4/doc/#searching-the-tree) can be useful\n",
    "> - useful elements of code:\n",
    ">\n",
    ">```python\n",
    "> from bs4 import BeautifulSoup\n",
    "> html_doc = proxy.request('GET','https://www.crummy.com/software/BeautifulSoup/bs4/doc/')\n",
    "> soup = BeautifulSoup(html_doc, 'html.parser')\n",
    "> ...\n",
    ">```"
   ]
  },
  {
   "cell_type": "markdown",
   "metadata": {},
   "source": [
    "Your answers(s)"
   ]
  },
  {
   "cell_type": "code",
   "execution_count": 7,
   "metadata": {},
   "outputs": [],
   "source": [
    "# your code\n",
    "from bs4 import BeautifulSoup\n",
    "\n",
    "\n",
    "html_doc = proxy.request('GET','https://www.crummy.com/software/BeautifulSoup/bs4/doc/')\n",
    "soup = BeautifulSoup(html_doc.data, 'html.parser')"
   ]
  },
  {
   "cell_type": "code",
   "execution_count": 8,
   "metadata": {},
   "outputs": [
    {
     "name": "stdout",
     "output_type": "stream",
     "text": [
      "4.12.0\n"
     ]
    }
   ],
   "source": [
    "## Chercher la version dans le top left de la page\n",
    "\n",
    "version = re.search( pattern_of_version ,soup.title.string)\n",
    "\n",
    "print(version.group(0))"
   ]
  },
  {
   "cell_type": "code",
   "execution_count": 9,
   "metadata": {},
   "outputs": [
    {
     "name": "stdout",
     "output_type": "stream",
     "text": [
      "Quick Start\n"
     ]
    }
   ],
   "source": [
    "## Chercher toute les titres du page HTML : \n",
    "\n",
    "pattern = r'<h1>(.*?)<a'\n",
    "\n",
    "\n",
    "Titles = [re.findall(pattern, str(link))[0] for link in soup.find_all('h1')]\n",
    "\n",
    "\n",
    "print(Titles[1])"
   ]
  },
  {
   "cell_type": "markdown",
   "metadata": {},
   "source": [
    "-------\n",
    "----"
   ]
  },
  {
   "cell_type": "markdown",
   "metadata": {},
   "source": [
    "## <a name=\"ex2\">Exercise 2: Extracting information from Wikipedia</a> [(&#8593;)](#content)\n",
    "\n",
    "This exercise consists in extracting the birthdate of a list of actors from their Wikipedia page to infer their age. Consider for instance a list composed of Brad Pitt, Laurent Cantet, Jean-Paul Belmondo, Matthew McConaughey, Marion Cotillard, ...\n",
    "\n",
    "To this aim, take a look at one such Wikipedia page, verify whether a birthdate is reported, and take a look at the `.html` source code of the page (from your browser) to see where this information is located. \n",
    "\n",
    "First write a function to automatically retrieve the birthdate of each actor in the list. In a second step, convert this information into a \"numerical date\" (see codes below) and compute the difference with the current date to estimate the actors' age.\n",
    "\n",
    "> Hints: \n",
    "> - note that the birth date is associated whith the class `class=\"nowrap date-lien bday\"` (check source code of the web page);\n",
    "> - useful object: `bs4.BeautifulSoup`, with its `find` method, see the [documentation](https://www.crummy.com/software/BeautifulSoup/bs4/doc/);\n",
    "> - you can create an `Actor` class to collect useful attributes (see [here](https://scipy-lectures.org/intro/language/oop.html?highlight=classes) and [there](https://docs.python.org/3/tutorial/classes.html) for more details on defining classes in Python).\n",
    "> \n",
    ">```python\n",
    ">class Actor:\n",
    ">    def __init__(self, firstname, name):\n",
    ">        self.name = name\n",
    ">        self.firstname = firstname\n",
    ">    ...\n",
    ">\n",
    ">```"
   ]
  },
  {
   "cell_type": "markdown",
   "metadata": {},
   "source": [
    "> Codes: one possible way to translate words into a numerical date to compute an age is\n",
    ">```python\n",
    "># Parse data (replace month by number)\n",
    ">month = ['janvier', 'février', 'mars', 'avril', 'mai', 'juin', 'juillet', 'août', 'septembre', 'octobre', 'novembre', 'décembre']\n",
    ">month_number = ['01', '02', '03', '04', '05', '06', '07', '08', '09', '10', '11', '12']\n",
    ">\n",
    ">for i in range(0, 12):\n",
    ">    web_date = web_date.replace(month[i], month_number[i])\n",
    ">    \n",
    "># Parse data and find the date to translate it into a numerical value\n",
    ">born = datetime.strptime(web_date, '%m %Y')\n",
    ">now = date.today()\n",
    ">\n",
    "># Compute the age\n",
    ">age = now - born.date()\n",
    ">age.days / 356\n",
    ">\n",
    ">result = now.year - born.date().year - ((now.month, now.day) < (born.date().month, born.date().day))\n",
    ">```"
   ]
  },
  {
   "cell_type": "markdown",
   "metadata": {},
   "source": [
    "Your answers(s)"
   ]
  },
  {
   "cell_type": "code",
   "execution_count": 10,
   "metadata": {},
   "outputs": [],
   "source": [
    "import pandas as pd\n",
    "\n",
    "# define a class for actors\n",
    "class Actor:\n",
    "\n",
    "    def __init__(self, full_name):\n",
    "\n",
    "        self.full_name = full_name\n",
    "    \n",
    "    def set_age(self,age): \n",
    "        self.age = age\n",
    "\n",
    "    def set_birthday(self,birthday):\n",
    "        self.birthday = birthday\n",
    "\n",
    "\n",
    "\n",
    "def date_to_age(web_date): \n",
    "\n",
    "    \"\"\" input  : birthday\n",
    "        output : age\"\"\"\n",
    "\n",
    "\n",
    "    month = ['janvier', 'février', 'mars', 'avril', 'mai', 'juin', 'juillet', 'août', 'septembre', 'octobre', 'novembre', 'décembre']\n",
    "    month_number = ['01', '02', '03', '04', '05', '06', '07', '08', '09', '10', '11', '12']\n",
    "\n",
    "    for i in range(0, 12):\n",
    "        web_date = web_date.replace(month[i], month_number[i])\n",
    "        \n",
    "    # Parse data and find the date to translate it into a numerical value\n",
    "    born = datetime.strptime(web_date, '%m %Y')\n",
    "    now = date.today()\n",
    "\n",
    "    # Compute the age\n",
    "    age = now - born.date()\n",
    "    age.days / 356\n",
    "\n",
    "    result = now.year - born.date().year - ((now.month, now.day) < (born.date().month, born.date().day))\n",
    "\n",
    "    return result\n",
    "        \n",
    "\n",
    "Actors = [\"Brad Pitt\", \"Laurent Cantet\", \"Jean-Paul Belmondo\", \"Matthew McConaughey\", \"Marion Cotillard\"]\n",
    "instance_actors = [Actor(full_name) for full_name in Actors]"
   ]
  },
  {
   "cell_type": "markdown",
   "metadata": {},
   "source": [
    "### Getting birthdays :"
   ]
  },
  {
   "cell_type": "code",
   "execution_count": 72,
   "metadata": {},
   "outputs": [],
   "source": [
    "Links = ['https://fr.wikipedia.org/wiki/'+Actors[i].replace(\" \",\"_\") for i in range(len(Actors))]\n",
    "\n",
    "\n",
    "# define two dict for birthdays and ages :  {'actor' : 'age'} or {'actor' : 'birthday'}\n",
    "\n",
    "Actors_birthady = {}\n",
    "Actors_ages = {}\n",
    "\n",
    "\n",
    "for i in range(len(Actors)) : \n",
    "\n",
    "    html_doc = proxy.request('GET','https://fr.wikipedia.org/wiki/'+Actors[i].replace(\" \",\"_\") )\n",
    "    soup = BeautifulSoup(html_doc.data , 'html.parser')\n",
    "\n",
    "\n",
    "    # add the actor and his informations :\n",
    "    Actors_birthady[Actors[i]] = soup.find_all('time')[0].get('data-sort-value')\n",
    "    Actors_ages[Actors[i]] = date_to_age(Actors_birthady[Actors[i]][5:7]+' '+Actors_birthady[Actors[i]][:4]) \n",
    "\n",
    "    # set the age and the birthday \n",
    "    instance_actors[i].set_birthday(Actors_birthady[Actors[i]] ) \n",
    "    instance_actors[i].set_age(Actors_ages[Actors[i]] ) \n"
   ]
  },
  {
   "cell_type": "code",
   "execution_count": 73,
   "metadata": {},
   "outputs": [],
   "source": [
    "data_scaped = pd.DataFrame({'Actors' : Actors , 'Birthday' : list(Actors_birthady.values()) , 'Ages':list(Actors_ages.values())})"
   ]
  },
  {
   "cell_type": "code",
   "execution_count": 74,
   "metadata": {},
   "outputs": [
    {
     "data": {
      "text/html": [
       "<div>\n",
       "<style scoped>\n",
       "    .dataframe tbody tr th:only-of-type {\n",
       "        vertical-align: middle;\n",
       "    }\n",
       "\n",
       "    .dataframe tbody tr th {\n",
       "        vertical-align: top;\n",
       "    }\n",
       "\n",
       "    .dataframe thead th {\n",
       "        text-align: right;\n",
       "    }\n",
       "</style>\n",
       "<table border=\"1\" class=\"dataframe\">\n",
       "  <thead>\n",
       "    <tr style=\"text-align: right;\">\n",
       "      <th></th>\n",
       "      <th>Actors</th>\n",
       "      <th>Birthday</th>\n",
       "      <th>Ages</th>\n",
       "    </tr>\n",
       "  </thead>\n",
       "  <tbody>\n",
       "    <tr>\n",
       "      <th>0</th>\n",
       "      <td>Brad Pitt</td>\n",
       "      <td>1963-12-18</td>\n",
       "      <td>59</td>\n",
       "    </tr>\n",
       "    <tr>\n",
       "      <th>1</th>\n",
       "      <td>Laurent Cantet</td>\n",
       "      <td>1961-04-11</td>\n",
       "      <td>62</td>\n",
       "    </tr>\n",
       "    <tr>\n",
       "      <th>2</th>\n",
       "      <td>Jean-Paul Belmondo</td>\n",
       "      <td>1933-04-09</td>\n",
       "      <td>90</td>\n",
       "    </tr>\n",
       "    <tr>\n",
       "      <th>3</th>\n",
       "      <td>Matthew McConaughey</td>\n",
       "      <td>1969-11-04</td>\n",
       "      <td>53</td>\n",
       "    </tr>\n",
       "    <tr>\n",
       "      <th>4</th>\n",
       "      <td>Marion Cotillard</td>\n",
       "      <td>1975-09-30</td>\n",
       "      <td>48</td>\n",
       "    </tr>\n",
       "  </tbody>\n",
       "</table>\n",
       "</div>"
      ],
      "text/plain": [
       "                Actors    Birthday  Ages\n",
       "0            Brad Pitt  1963-12-18    59\n",
       "1       Laurent Cantet  1961-04-11    62\n",
       "2   Jean-Paul Belmondo  1933-04-09    90\n",
       "3  Matthew McConaughey  1969-11-04    53\n",
       "4     Marion Cotillard  1975-09-30    48"
      ]
     },
     "execution_count": 74,
     "metadata": {},
     "output_type": "execute_result"
    }
   ],
   "source": [
    "data_scaped"
   ]
  }
 ],
 "metadata": {
  "file_extension": ".py",
  "kernelspec": {
   "display_name": "Python 3.8.10 64-bit",
   "language": "python",
   "name": "python3"
  },
  "language_info": {
   "codemirror_mode": {
    "name": "ipython",
    "version": 3
   },
   "file_extension": ".py",
   "mimetype": "text/x-python",
   "name": "python",
   "nbconvert_exporter": "python",
   "pygments_lexer": "ipython3",
   "version": "3.8.18"
  },
  "mimetype": "text/x-python",
  "name": "python",
  "npconvert_exporter": "python",
  "pygments_lexer": "ipython3",
  "version": 3,
  "vscode": {
   "interpreter": {
    "hash": "916dbcbb3f70747c44a77c7bcd40155683ae19c65e1c03b4aa3499c5328201f1"
   }
  }
 },
 "nbformat": 4,
 "nbformat_minor": 4
}
