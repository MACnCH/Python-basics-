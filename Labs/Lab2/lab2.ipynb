{
 "cells": [
  {
   "cell_type": "markdown",
   "metadata": {},
   "source": [
    "# Practical session 2 - Practise with classic libraries\n",
    "\n",
    "Students (pair):\n",
    "- [Student 1]([link](https://github.com/username1))\n",
    "- [Student 2]([link](https://github.com/username2))"
   ]
  },
  {
   "cell_type": "markdown",
   "metadata": {},
   "source": [
    "```\n",
    "conda create --name=lab2 --file=requirement.txt\n",
    "conda activate lab2\n",
    "# do not forget to deactivate the environment if needed\n",
    "# you can remove the environment once you are done\n",
    "conda env remove --name=lab2\n",
    "```"
   ]
  },
  {
   "cell_type": "markdown",
   "metadata": {},
   "source": [
    "**Useful references for this lab**:\n",
    "\n",
    "[1] `numpy`: [lecture notes (1.4.1-1.4.2)](https://scipy-lectures.org/intro/numpy/index.html) and [documentation](https://numpy.org/doc/stable/)\n",
    "\n",
    "[2] `pandas`: [documentation](https://pandas.pydata.org/docs/getting_started/index.html), [quick tutorial](https://pandas.pydata.org/pandas-docs/version/0.15/10min.html)\n",
    "\n",
    "[3] `matplotlib`: [lecture notes (1.5)](https://scipy-lectures.org/intro/matplotlib/index.html) and [documentation](https://matplotlib.org/)\n",
    "\n",
    "[4] `h5py`: [quick start guide](http://docs.h5py.org/en/stable/quick.html#quick)"
   ]
  },
  {
   "cell_type": "markdown",
   "metadata": {},
   "source": [
    "## <a name=\"content\">Contents</a>\n",
    "- [Exercise 1: Computing basic statistics](#ex1)\n",
    "- [Exercise 2: Random variables and histograms](#ex2)\n",
    "- [Exercise 3: Discrete isotropic total variation](#ex3)\n",
    "---"
   ]
  },
  {
   "cell_type": "code",
   "execution_count": 1,
   "metadata": {},
   "outputs": [],
   "source": [
    "%load_ext autoreload\n",
    "%autoreload 2"
   ]
  },
  {
   "cell_type": "markdown",
   "metadata": {},
   "source": [
    "---\n",
    "## <a name=\"ex1\">Exercise 1: Random variables and histograms</a>\n",
    "\n",
    "In this exercise, we are interested in generating samples from the Gamma distribution $\\mathcal{G}(\\alpha,\\beta)$, of probability density function (pdf)\n",
    "\n",
    "\\begin{equation}\n",
    "    p(x) = \\frac{\\beta^\\alpha}{\\Gamma(\\alpha)} x^{\\alpha-1} \\exp(-\\beta x) \\mathbb{1}_{\\mathbb{R}_+^*}(x),\n",
    "\\end{equation}\n",
    "\n",
    "and displaying their histogram. In the following, we consider $(\\alpha, \\beta) = (9, 2)$.\n",
    "\n",
    "1\\. Set the random seed to a fixed value for reproducibility, and biefly check your instruction works as intended.\n",
    "> Hint: you may take a look at the following pages: [random module](https://numpy.org/doc/stable/reference/random/index.html?highlight=random#module-numpy.random), [random generator](https://numpy.org/doc/stable/reference/random/generator.html)."
   ]
  },
  {
   "cell_type": "markdown",
   "metadata": {},
   "source": [
    "**Answer**:"
   ]
  },
  {
   "cell_type": "code",
   "execution_count": 3,
   "metadata": {},
   "outputs": [],
   "source": [
    "# your code"
   ]
  },
  {
   "cell_type": "markdown",
   "metadata": {},
   "source": [
    "2\\. Generate $\\approx 10^5$ samples in a vector. Save the vector in a file, `samples.hdf5` or `samples.npy`.\n",
    "> Warning / hint: \n",
    "> - take a careful look at the [documentation](https://numpy.org/doc/stable/reference/random/generated/numpy.random.gamma.html?highlight=gamma#numpy.random.gamma) (multiple conventions exist for the definition of the pdf underlying the distribution...);\n",
    "> - to save data in a `npy` file, take a look at the example reported in the [Numpy documentation](https://numpy.org/doc/stable/reference/generated/numpy.save.html);\n",
    "> - to save data in a `.h5` file, take a quick look at the [documentation here](https://docs.h5py.org/en/stable/quick.html#quick)."
   ]
  },
  {
   "cell_type": "markdown",
   "metadata": {},
   "source": [
    "**Answer**:"
   ]
  },
  {
   "cell_type": "code",
   "execution_count": null,
   "metadata": {},
   "outputs": [],
   "source": [
    "# your code"
   ]
  },
  {
   "cell_type": "markdown",
   "metadata": {},
   "source": [
    "3\\. Estimate an histogram of this distribution for a well chosen set of bins, and display it.\n",
    "> Warnings: \n",
    "> - make sure the [histogram](https://matplotlib.org/api/_as_gen/matplotlib.pyplot.hist.html?highlight=hist#matplotlib.pyplot.hist) corresponds to a probability density function (pdf);\n",
    "> - do not forget to include a proper title with names for the axes."
   ]
  },
  {
   "cell_type": "markdown",
   "metadata": {},
   "source": [
    "**Answer**:"
   ]
  },
  {
   "cell_type": "code",
   "execution_count": null,
   "metadata": {},
   "outputs": [],
   "source": [
    "# your code"
   ]
  },
  {
   "cell_type": "markdown",
   "metadata": {},
   "source": [
    "4\\. Overlay the probability density function on the histogram and compare these in a few words. Save the resulting picture in `.png` format.\n",
    "> Hint: \n",
    "> - take a look at the `scipy` [documentation](https://docs.scipy.org/doc/scipy/reference/stats.html) to avoid implementing the pdf from scratch;\n",
    "> - return the bins in which the histogram is computed, and evaluate the pdf on those points."
   ]
  },
  {
   "cell_type": "markdown",
   "metadata": {},
   "source": [
    "**Answer**:"
   ]
  },
  {
   "cell_type": "code",
   "execution_count": null,
   "metadata": {},
   "outputs": [],
   "source": [
    "# your code"
   ]
  },
  {
   "cell_type": "markdown",
   "metadata": {},
   "source": [
    "---\n",
    "## <a name=\"ex2\">Exercise 2: Basic statistics with `pandas`</a>\n",
    "\n",
    "In this second exercise, we focus on computing basic statistics, and applying linear regression to a small data set. These data are gathered in the following table, which gives the infant mortality (`X`) and the gross national product per inhabitant (`Y`) of 12 european countries :\n",
    "\n",
    "| `X` | 190 | 128 | 180 | 212 | 56 | 192 | 68 | 98 | 110 | 197 | 181 | 233 |\n",
    "|-----|-----|-----|-----|----|-----|----|----|-----|-----|-----|-----|-----|\n",
    "| `Y` |  24 |  28 |  24 | 19 |  37 | 22 | 34 |  25 |  36 |  24 |  20 |  18 |\n",
    "\n",
    "1\\. For `X `and `Y`, compute the median, mean, variance and standard deviation. The data points have already been entered into a `.csv` file stored in `data/data.csv`.\n",
    "> Hint: \n",
    "> - you can directly use `pandas` to load the data into a `DataFrame` ([`pd.read_csv`](https://pandas.pydata.org/docs/reference/frame.html));\n",
    "> - take a look at the built-in operations available for `DataFrame` objects ([documentation](https://pandas.pydata.org/docs/reference/frame.html));\n",
    "> - to display a `DataFrame` `f`:\n",
    "> ```python \n",
    "> from IPython.display import display\n",
    "> display(df)\n",
    "> ```\n",
    "> - sort the `DataFrame` with respect to the value of `X` (see [here](https://pandas.pydata.org/docs/reference/api/pandas.DataFrame.sort_values.html#pandas.DataFrame.sort_values)) This will be useful for question 3."
   ]
  },
  {
   "cell_type": "markdown",
   "metadata": {},
   "source": [
    "**Answer**:"
   ]
  },
  {
   "cell_type": "code",
   "execution_count": 3,
   "metadata": {},
   "outputs": [
    {
     "data": {
      "text/html": [
       "<div>\n",
       "<style scoped>\n",
       "    .dataframe tbody tr th:only-of-type {\n",
       "        vertical-align: middle;\n",
       "    }\n",
       "\n",
       "    .dataframe tbody tr th {\n",
       "        vertical-align: top;\n",
       "    }\n",
       "\n",
       "    .dataframe thead th {\n",
       "        text-align: right;\n",
       "    }\n",
       "</style>\n",
       "<table border=\"1\" class=\"dataframe\">\n",
       "  <thead>\n",
       "    <tr style=\"text-align: right;\">\n",
       "      <th></th>\n",
       "      <th>X</th>\n",
       "      <th>Y</th>\n",
       "    </tr>\n",
       "  </thead>\n",
       "  <tbody>\n",
       "    <tr>\n",
       "      <th>0</th>\n",
       "      <td>190</td>\n",
       "      <td>24</td>\n",
       "    </tr>\n",
       "    <tr>\n",
       "      <th>1</th>\n",
       "      <td>128</td>\n",
       "      <td>28</td>\n",
       "    </tr>\n",
       "    <tr>\n",
       "      <th>2</th>\n",
       "      <td>180</td>\n",
       "      <td>24</td>\n",
       "    </tr>\n",
       "    <tr>\n",
       "      <th>3</th>\n",
       "      <td>212</td>\n",
       "      <td>19</td>\n",
       "    </tr>\n",
       "    <tr>\n",
       "      <th>4</th>\n",
       "      <td>56</td>\n",
       "      <td>37</td>\n",
       "    </tr>\n",
       "    <tr>\n",
       "      <th>5</th>\n",
       "      <td>192</td>\n",
       "      <td>22</td>\n",
       "    </tr>\n",
       "    <tr>\n",
       "      <th>6</th>\n",
       "      <td>68</td>\n",
       "      <td>34</td>\n",
       "    </tr>\n",
       "    <tr>\n",
       "      <th>7</th>\n",
       "      <td>98</td>\n",
       "      <td>25</td>\n",
       "    </tr>\n",
       "    <tr>\n",
       "      <th>8</th>\n",
       "      <td>110</td>\n",
       "      <td>36</td>\n",
       "    </tr>\n",
       "    <tr>\n",
       "      <th>9</th>\n",
       "      <td>197</td>\n",
       "      <td>24</td>\n",
       "    </tr>\n",
       "    <tr>\n",
       "      <th>10</th>\n",
       "      <td>181</td>\n",
       "      <td>20</td>\n",
       "    </tr>\n",
       "    <tr>\n",
       "      <th>11</th>\n",
       "      <td>233</td>\n",
       "      <td>18</td>\n",
       "    </tr>\n",
       "  </tbody>\n",
       "</table>\n",
       "</div>"
      ],
      "text/plain": [
       "      X   Y\n",
       "0   190  24\n",
       "1   128  28\n",
       "2   180  24\n",
       "3   212  19\n",
       "4    56  37\n",
       "5   192  22\n",
       "6    68  34\n",
       "7    98  25\n",
       "8   110  36\n",
       "9   197  24\n",
       "10  181  20\n",
       "11  233  18"
      ]
     },
     "execution_count": 3,
     "metadata": {},
     "output_type": "execute_result"
    }
   ],
   "source": [
    "import pandas as pd\n",
    "\n",
    "df = pd.read_csv(\"data/data.csv\")\n",
    "df"
   ]
  },
  {
   "cell_type": "code",
   "execution_count": 4,
   "metadata": {},
   "outputs": [
    {
     "data": {
      "text/html": [
       "<div>\n",
       "<style scoped>\n",
       "    .dataframe tbody tr th:only-of-type {\n",
       "        vertical-align: middle;\n",
       "    }\n",
       "\n",
       "    .dataframe tbody tr th {\n",
       "        vertical-align: top;\n",
       "    }\n",
       "\n",
       "    .dataframe thead th {\n",
       "        text-align: right;\n",
       "    }\n",
       "</style>\n",
       "<table border=\"1\" class=\"dataframe\">\n",
       "  <thead>\n",
       "    <tr style=\"text-align: right;\">\n",
       "      <th></th>\n",
       "      <th>X</th>\n",
       "      <th>Y</th>\n",
       "    </tr>\n",
       "  </thead>\n",
       "  <tbody>\n",
       "    <tr>\n",
       "      <th>count</th>\n",
       "      <td>12.00000</td>\n",
       "      <td>12.000000</td>\n",
       "    </tr>\n",
       "    <tr>\n",
       "      <th>mean</th>\n",
       "      <td>153.75000</td>\n",
       "      <td>25.916667</td>\n",
       "    </tr>\n",
       "    <tr>\n",
       "      <th>std</th>\n",
       "      <td>59.04255</td>\n",
       "      <td>6.515134</td>\n",
       "    </tr>\n",
       "    <tr>\n",
       "      <th>min</th>\n",
       "      <td>56.00000</td>\n",
       "      <td>18.000000</td>\n",
       "    </tr>\n",
       "    <tr>\n",
       "      <th>25%</th>\n",
       "      <td>107.00000</td>\n",
       "      <td>21.500000</td>\n",
       "    </tr>\n",
       "    <tr>\n",
       "      <th>50%</th>\n",
       "      <td>180.50000</td>\n",
       "      <td>24.000000</td>\n",
       "    </tr>\n",
       "    <tr>\n",
       "      <th>75%</th>\n",
       "      <td>193.25000</td>\n",
       "      <td>29.500000</td>\n",
       "    </tr>\n",
       "    <tr>\n",
       "      <th>max</th>\n",
       "      <td>233.00000</td>\n",
       "      <td>37.000000</td>\n",
       "    </tr>\n",
       "  </tbody>\n",
       "</table>\n",
       "</div>"
      ],
      "text/plain": [
       "               X          Y\n",
       "count   12.00000  12.000000\n",
       "mean   153.75000  25.916667\n",
       "std     59.04255   6.515134\n",
       "min     56.00000  18.000000\n",
       "25%    107.00000  21.500000\n",
       "50%    180.50000  24.000000\n",
       "75%    193.25000  29.500000\n",
       "max    233.00000  37.000000"
      ]
     },
     "execution_count": 4,
     "metadata": {},
     "output_type": "execute_result"
    }
   ],
   "source": [
    "df.describe()"
   ]
  },
  {
   "cell_type": "markdown",
   "metadata": {},
   "source": [
    "2\\. Give the equation of the regression line of `Y` as a function of `X`.\n",
    "> Hint: \n",
    "> - take a look at the functionalities available in `numpy` (e.g., `np.polyfit` and `np.polyval`);\n",
    "> - if needed, note that you can retrieve the data from the resulting `pandas` `DataFrame` with the `to_numpy()` method."
   ]
  },
  {
   "cell_type": "markdown",
   "metadata": {},
   "source": [
    "**Answer**:"
   ]
  },
  {
   "cell_type": "code",
   "execution_count": 5,
   "metadata": {},
   "outputs": [
    {
     "data": {
      "image/png": "[encoded data removed]",
      "text/plain": [
       "<Figure size 432x288 with 1 Axes>"
      ]
     },
     "metadata": {
      "needs_background": "light"
     },
     "output_type": "display_data"
    }
   ],
   "source": [
    "# your code\n",
    "import numpy as np\n",
    "import matplotlib.pyplot as plt \n",
    "Regression_line = np.polyfit(df[\"X\"],df[\"Y\"],deg=1) #Regression coefficients\n",
    "X =np.array(df[\"X\"])    #X values as an array\n",
    "B = Regression_line[1]*np.ones(len(X)) #Y =aX +B\n",
    "plt.figure()\n",
    "plt.plot(X,Regression_line[0]*X+B)\n",
    "plt.title(\"Regression line\")\n",
    "plt.xlabel(\"X\")\n",
    "plt.ylabel(\"Y = aX + B\")\n",
    "plt.show()\n"
   ]
  },
  {
   "cell_type": "markdown",
   "metadata": {},
   "source": [
    "3\\. Display the cloud of points and the regression line $Y = f(X)$ on the same figure. Save the figure in `.png` format."
   ]
  },
  {
   "cell_type": "markdown",
   "metadata": {},
   "source": [
    "**Answer**:"
   ]
  },
  {
   "cell_type": "code",
   "execution_count": 35,
   "metadata": {},
   "outputs": [
    {
     "data": {
      "image/png": "[encoded data removed]",
      "text/plain": [
       "<Figure size 432x288 with 1 Axes>"
      ]
     },
     "metadata": {
      "needs_background": "light"
     },
     "output_type": "display_data"
    }
   ],
   "source": [
    "# your code\n",
    "plt.figure()\n",
    "plt.plot(X,Regression_line[0]*X+B,label=\"Regression line\")\n",
    "plt.scatter(X,Y,label=\"cloud of points\",color=\"red\")\n",
    "plt.title(\"Regression line and point cloud\")\n",
    "plt.xlabel(\"X\")\n",
    "plt.ylabel(\"Y\")\n",
    "plt.show()"
   ]
  },
  {
   "cell_type": "markdown",
   "metadata": {},
   "source": [
    "---\n",
    "## <a name=\"ex3\">Exercise 3: Discrete isotropic total variation</a>\n",
    "\n",
    "This exercise is devoted to the computation of the discrete isotropic total variation (TV) of an input matrix $\\mathbf{X} = [\\mathbf{x}_n]_{1 \\leq n \\leq N} \\in\\mathbb{C}^{M \\times N}$, which is particularly useful in Bayesian inference (e.g., for inverse problems) to promote piece-wise smooth solutions. The TV is defined as\n",
    "\n",
    "\\begin{equation*}\n",
    "    \\text{TV}(\\mathbf{X}) = \\Vert D(\\mathbf{X}) \\Vert_{1,2} = \\sum_{m=1}^M \\sum_{n=1}^N \\sqrt{[\\mathbf{XD}_h]^2_{m,n} + [\\mathbf{D}_v\\mathbf{X}]^2_{m,n}},\n",
    "\\end{equation*}\n",
    "\n",
    "where $[\\mathbf{Z}]_{m,n}$ denotes the elements in position $(m,n)$ of the matrix $\\mathbf{Z}$,\n",
    "\n",
    "\\begin{align*}\n",
    "    D(X) &= (\\mathbf{XD}_h, \\mathbf{D}_v\\mathbf{X}) \\in \\mathbb{C}^{M\\times N} \\times \\mathbb{C}^{M\\times N} \\\\\n",
    "    %\n",
    "    \\mathbf{XD}_h &= [\\mathbf{x}_2-\\mathbf{x}_1, \\dotsc, \\mathbf{x}_N-\\mathbf{x}_{N-1}, \\mathbf{0}_M] \\in \\mathbb{C}^{M\\times N} \\\\\n",
    "    %\n",
    "    \\mathbf{D}_v\\mathbf{X} &= [\\tilde{\\mathbf{x}}_2^T-\\tilde{\\mathbf{x}}^T_1, \\dotsc, \\tilde{\\mathbf{x}}^T_M-\\tilde{\\mathbf{x}}^T_{M-1}, \\mathbf{0}_N]^T \\in \\mathbb{C}^{M\\times N},\n",
    "\\end{align*}\n",
    "\n",
    "$\\mathbf{x}_n \\in \\mathbb{C}^{M}$ is the $n$-th column of $\\mathbf{X}$, and $\\tilde{\\mathbf{x}}_m \\in \\mathbb{C}^{1\\times N}$ is the $m$-th row of $\\mathbf{X}$. \n",
    "The linear operator $D: \\mathbb{C}^{M\\times N} \\rightarrow \\mathbb{C}^{M\\times N} \\times \\mathbb{C}^{M\\times N} $ is the discrete gradient operator. The adjoint of $D$, $D^*: \\mathbb{C}^{M\\times N} \\times \\mathbb{C}^{M\\times N} \\rightarrow \\mathbb{C}^{M\\times N}$, is given by\n",
    "\n",
    "\\begin{align*}\n",
    "    (\\forall \\mathbf{Y} = (\\mathbf{Y}_h,\\mathbf{Y}_v)), \\quad D^*(\\mathbf{Y}) &= \\mathbf{Y}_h\\mathbf{D}^*_h + \\mathbf{D}^*_v\\mathbf{Y}_v \\\\\n",
    "    %\n",
    "    \\mathbf{Y}_h\\mathbf{D}^*_h &= \\big[-\\mathbf{y}_{h,1},- [\\mathbf{y}_{h,n}-\\mathbf{y}_{h,n-1}]_{2 \\leq n \\leq N-1}, \\mathbf{y}_{h, N-1} \\big] \\\\\n",
    "    %\n",
    "    \\mathbf{D}^*_v\\mathbf{Y}_v &= \\big[-\\tilde{\\mathbf{y}}_{v,1}^T,- [\\tilde{\\mathbf{y}}_{v,m}^T-\\tilde{\\mathbf{y}}^T_{v,m-1}]_{2 \\leq m \\leq M-1}, \\tilde{\\mathbf{y}}^T_{v, M-1} \\big]^T\n",
    "\\end{align*}\n",
    "\n",
    "where $\\mathbf{y}_{h,n}$ is the $n$-th column of $\\mathbf{Y}_h$, and $\\tilde{\\mathbf{x}}_{v,m}$ is the $m$-th row of $\\mathbf{Y}_v$.\n",
    "\n",
    "1\\. Using `numpy`, implement a function `gradient2D` to compute the 2D discrete gradient operator $D$ applied to a matrix $\\mathbf{X}\\in\\mathbb{C}^{M \\times N}$ (no for loops!). Trigger an error message whenever the input array has more than 2 dimensions. If not clear from the implementation, add a few short comments to explain your code.\n",
    "\n",
    "> Hint: \n",
    "> - to trigger an error, you can for instance use an `assert` statement, or raise an [exception (e.g., `AssertionError`)](https://docs.python.org/3/library/exceptions.html);\n",
    "> - only a few operations are needed: computing vertical differences, horizontal differences, and possibly a concatenation of matrices into a single tensor (= n-dimensional array);\n",
    "> - possibly useful functions: `np.diff`, `np.c_`, `np.r_` (or `np.concatenate`). "
   ]
  },
  {
   "cell_type": "markdown",
   "metadata": {},
   "source": [
    "**Answer**:"
   ]
  },
  {
   "cell_type": "code",
   "execution_count": null,
   "metadata": {},
   "outputs": [],
   "source": []
  },
  {
   "cell_type": "markdown",
   "metadata": {},
   "source": [
    "2\\. Implement a unit-test to validate the behaviour of the `gradient2D` function. For instance, you can check the format of the output, and test the result when the function is evaluated on a constant matrix (for both a square and a non-square input matrix). Run the unit-test from the present Jupyter notebook."
   ]
  },
  {
   "cell_type": "markdown",
   "metadata": {},
   "source": [
    "**Answer**:"
   ]
  },
  {
   "cell_type": "code",
   "execution_count": null,
   "metadata": {},
   "outputs": [],
   "source": []
  },
  {
   "cell_type": "markdown",
   "metadata": {},
   "source": [
    "3\\. Document the function `gradient2D` with an appropriate docstring (see Lab 1)."
   ]
  },
  {
   "cell_type": "markdown",
   "metadata": {},
   "source": [
    "**Answer**:"
   ]
  },
  {
   "cell_type": "code",
   "execution_count": 12,
   "metadata": {},
   "outputs": [],
   "source": [
    "def gradient2D(X):\n",
    "    \"\"\"\n",
    "    Compute the 2D discrete gradient operator applied to a matrix.\n",
    "\n",
    "    Parameters:\n",
    "    - X (ndarray): Input matrix of shape (M, N).\n",
    "\n",
    "    Returns:\n",
    "    - gradient_matrix (ndarray): 2D gradient matrix of shape (M, N, 2), where the last dimension represents\n",
    "      the gradient in the x-direction (index 0) and y-direction (index 1) at each position.\n",
    "\n",
    "    Raises:\n",
    "    - ValueError: If the input array has more than 2 dimensions.\n",
    "    \n",
    "    \"\"\"\n",
    "\n",
    "    # Check if the input array has more than 2 dimensions\n",
    "    if X.ndim > 2:\n",
    "        raise ValueError(\"Input array must have 2 dimensions (M x N).\")\n",
    "\n",
    "    # Compute the gradient along the rows (axis 0) and columns (axis 1)\n",
    "    gradient_x = np.gradient(X, axis=0)\n",
    "    gradient_y = np.gradient(X, axis=1)\n",
    "\n",
    "    # Combine the gradients into a 2D gradient matrix\n",
    "    gradient_matrix = np.stack((gradient_x, gradient_y), axis=-1)\n",
    "\n",
    "    return gradient_matrix\n"
   ]
  },
  {
   "cell_type": "code",
   "execution_count": 13,
   "metadata": {},
   "outputs": [
    {
     "name": "stdout",
     "output_type": "stream",
     "text": [
      "Help on function gradient2D in module __main__:\n",
      "\n",
      "gradient2D(X)\n",
      "    Compute the 2D discrete gradient operator applied to a matrix.\n",
      "    \n",
      "    Parameters:\n",
      "    - X (ndarray): Input matrix of shape (M, N).\n",
      "    \n",
      "    Returns:\n",
      "    - gradient_matrix (ndarray): 2D gradient matrix of shape (M, N, 2), where the last dimension represents\n",
      "      the gradient in the x-direction (index 0) and y-direction (index 1) at each position.\n",
      "    \n",
      "    Raises:\n",
      "    - ValueError: If the input array has more than 2 dimensions.\n",
      "\n"
     ]
    }
   ],
   "source": [
    "help(gradient2D)"
   ]
  },
  {
   "cell_type": "markdown",
   "metadata": {},
   "source": [
    "4\\. Using 1., define a function `tv` to compute $\\text{TV}(\\mathbf{X})$, $\\mathbf{X}\\in\\mathbb{C}^{M \\times N}$. Write a unit-test and document your function."
   ]
  },
  {
   "cell_type": "markdown",
   "metadata": {},
   "source": [
    "**Answer**:"
   ]
  },
  {
   "cell_type": "code",
   "execution_count": 16,
   "metadata": {},
   "outputs": [],
   "source": [
    "import numpy as np\n",
    "\n",
    "def tv(X):\n",
    "    \"\"\"\n",
    "    Compute the discrete isotropic total variation (TV) of an input matrix X.\n",
    "\n",
    "    Parameters:\n",
    "    - X (ndarray): Input matrix of shape (M, N).\n",
    "\n",
    "    Returns:\n",
    "    - tv_value (float): Total variation of the input matrix X.\n",
    "\n",
    "    Example:\n",
    "    >>> M, N = 3, 3\n",
    "    >>> input_matrix = np.array([[1, 2, 1], [3, 4, 3], [1, 2, 1]])\n",
    "    >>> tv_result = tv(input_matrix)\n",
    "    >>> print(tv_result)\n",
    "    10.0\n",
    "    \"\"\"\n",
    "\n",
    "    # Compute the gradient along the rows (axis 0) and columns (axis 1)\n",
    "    gradient_matrix = gradient2D(X)\n",
    "\n",
    "    # Compute the TV using the formula\n",
    "    tv_value = np.sum(np.sqrt(gradient_matrix[:,:,0]**2 + gradient_matrix[:,:,1]**2))\n",
    "\n",
    "    return tv_value\n",
    "\n",
    "# Unit test for the tv function\n",
    "class TestTV(unittest.TestCase):\n",
    "    def test_tv_value(self):\n",
    "        # Test the TV value for a known input matrix\n",
    "        input_matrix = np.array([[1, 2, 1], [3, 4, 3], [1, 2, 1]])\n",
    "        tv_result = tv(input_matrix)\n",
    "        self.assertEqual(tv_result, 10.0)\n",
    "\n",
    "\n"
   ]
  },
  {
   "cell_type": "code",
   "execution_count": 18,
   "metadata": {},
   "outputs": [
    {
     "name": "stderr",
     "output_type": "stream",
     "text": [
      "E\n",
      "======================================================================\n",
      "ERROR: test_tv_value (unittest.loader._FailedTest)\n",
      "----------------------------------------------------------------------\n",
      "ImportError: Failed to import test module: test_tv_value\n",
      "Traceback (most recent call last):\n",
      "  File \"c:\\Users\\chadl\\AppData\\Local\\Programs\\Python\\Python310\\lib\\unittest\\loader.py\", line 154, in loadTestsFromName\n",
      "    module = __import__(module_name)\n",
      "ModuleNotFoundError: No module named 'test_tv_value'\n",
      "\n",
      "\n",
      "----------------------------------------------------------------------\n",
      "Ran 1 test in 0.000s\n",
      "\n",
      "FAILED (errors=1)\n"
     ]
    }
   ],
   "source": [
    "!python -m unittest TestTV.py"
   ]
  },
  {
   "cell_type": "markdown",
   "metadata": {},
   "source": [
    "5\\. Implement a function `gradient2D_adjoint` to compute $D^*(\\mathbf{Y})$, the adjoint of the 2D discrete gradient operator $D$ applied to $\\mathbf{Y}\\in\\mathbb{C}^{M \\times N}\\times \\mathbb{C}^{M \\times N}$. Add a few short comments to explain your code whenever appropriate."
   ]
  },
  {
   "cell_type": "markdown",
   "metadata": {},
   "source": [
    "**Answer**:"
   ]
  },
  {
   "cell_type": "code",
   "execution_count": null,
   "metadata": {},
   "outputs": [],
   "source": [
    "# your code"
   ]
  },
  {
   "cell_type": "markdown",
   "metadata": {},
   "source": [
    "6\\. Implement a unit-test to validate `gradient2D_adjoint`, e.g., by checking the size of the output from the function and verifying that `gradient2D_adjoint` is adjoint to `gradient2D`, i.e., for any $\\mathbf{X}\\in\\mathbb{C}^{M \\times N}$ and $\\mathbf{Y}\\in\\mathbb{C}^{M \\times N}\\times \\mathbb{C}^{M \\times N}$:\n",
    "\n",
    "\\begin{equation}\n",
    "    \\forall \\mathbf{X} \\in \\mathbb{C}^{M \\times N}, \\mathbf{Y} = (\\mathbf{Y}_h, \\mathbf{Y}_v) \\in \\mathbb{C}^{M \\times N} \\times \\mathbb{C}^{M \\times N}, \\;\n",
    "    %\n",
    "    \\langle D(\\mathbf{X}), \\mathbf{Y} \\rangle_{\\mathbb{C}^{M \\times N} \\times \\mathbb{C}^{M \\times N}} = \\langle \\mathbf{X}, D^*(\\mathbf{Y}) \\rangle_{\\mathbb{C}^{M \\times N}}, \n",
    "\\end{equation}\n",
    "\n",
    "where \n",
    "\n",
    "\\begin{align}\n",
    "    &\\forall \\mathbf{U}, \\mathbf{V} \\in \\mathbb{C}^{M \\times N}, \\; \\langle \\mathbf{U}, \\mathbf{V} \\rangle_{\\mathbb{C}^{M \\times N}} = \\text{Tr}(\\mathbf{U}^T \\mathbf{V}) = \\sum_{m=1}^M \\sum_{n=1}^N u_{m,n}^* v_{m,n}, \\\\\n",
    "    &\\forall \\mathbf{U} = (\\mathbf{U}_h, \\mathbf{U}_v), \\mathbf{V} = (\\mathbf{V}_h, \\mathbf{V}_v) \\in \\mathbb{C}^{M \\times N} \\times \\mathbb{C}^{M \\times N}, \\; \\langle \\mathbf{U}, \\mathbf{V} \\rangle_{\\mathbb{C}^{M \\times N} \\times \\mathbb{C}^{M \\times N}} = \\langle \\mathbf{U}_h, \\mathbf{V}_h \\rangle_{\\mathbb{C}^{M \\times N}} + \\langle \\mathbf{U}_v, \\mathbf{V}_v \\rangle_{\\mathbb{C}^{M \\times N}}.\n",
    "\\end{align}\n",
    "\n",
    "> Hint: to verify `gradient2D_adjoint` is the adjoint of `gradient2D`, evaluate the scalar products above for randomly drawn matrices. Set the random generator to a known state for reproducibility (see [Exercise 1](#ex1)).\n",
    "\n",
    "> `np.conj` is useful."
   ]
  },
  {
   "cell_type": "markdown",
   "metadata": {},
   "source": [
    "**Answer**:"
   ]
  },
  {
   "cell_type": "code",
   "execution_count": null,
   "metadata": {},
   "outputs": [],
   "source": [
    "# your code"
   ]
  },
  {
   "cell_type": "markdown",
   "metadata": {},
   "source": [
    "[Bonus, **optional**]. Generalize the `gradient2D` to any number of dimensions ($\\mathbf{X} \\in \\mathbb{C}^{N_1 \\times N_2 \\times \\dotsc \\times N_p}$), i.e., by returning tensors obtained by computing differences along each of its dimensions.\n",
    "> Hint: \n",
    "> - you may use a loops here, and/or list comprehension. Using slice objects (see [np.s_](https://numpy.org/doc/stable/reference/generated/numpy.s_.html?highlight=s_#numpy.s_) and [this page](https://stackoverflow.com/questions/24432209/python-index-an-array-using-the-colon-operator-in-an-arbitrary-dimension)) can be an interesting option.\n",
    ">\n",
    "> - the definition of the scalar product above can be extended to the case of tensors as follows:\n",
    "\\begin{equation}\n",
    "    \\mathbf{U}, \\mathbf{V} \\in \\mathbb{C}^{N_1 \\times N_2 \\times \\dotsc \\times N_p}, \\; \\langle \\mathbf{U}, \\mathbf{V} \\rangle_{\\mathbb{C}^{N_1 \\times N_2 \\times \\dotsc \\times N_p}} =  \\sum_{n_1 = 1}^{N_1}  \\sum_{n_2 = 1}^{N_2} \\dotsc \\sum_{n_p = 1}^{N_p} u_{n_1, n_2, \\dotsc, n_p}^* v_{n_1, n_2, \\dotsc, n_p}   \n",
    "\\end{equation}"
   ]
  },
  {
   "cell_type": "markdown",
   "metadata": {},
   "source": [
    "**Answer**:"
   ]
  },
  {
   "cell_type": "code",
   "execution_count": null,
   "metadata": {},
   "outputs": [],
   "source": [
    "# your code"
   ]
  },
  {
   "cell_type": "markdown",
   "metadata": {},
   "source": [
    "## Reference\n",
    "\n",
    "```bibtex\n",
    "@article{condat:hal-01309685,\n",
    "  TITLE = {{Discrete Total Variation: New Definition and Minimization}},\n",
    "  AUTHOR = {Condat, Laurent},\n",
    "  URL = {https://hal.archives-ouvertes.fr/hal-01309685},\n",
    "  JOURNAL = {{SIAM Journal on Imaging Sciences}},\n",
    "  PUBLISHER = {{Society for Industrial and Applied Mathematics}},\n",
    "  VOLUME = {10},\n",
    "  NUMBER = {3},\n",
    "  PAGES = {1258--1290},\n",
    "  YEAR = {2017},\n",
    "  MONTH = Aug,\n",
    "  DOI = {10.1137/16M1075247},\n",
    "  KEYWORDS = { variational image processing ; total variation ;  finite-difference schemes ;  coarea formula},\n",
    "  PDF = {https://hal.archives-ouvertes.fr/hal-01309685v3/file/Condat-newTV.pdf},\n",
    "  HAL_ID = {hal-01309685},\n",
    "  HAL_VERSION = {v3},\n",
    "}\n",
    "```\n"
   ]
  }
 ],
 "metadata": {
  "kernelspec": {
   "display_name": "Python 3 (ipykernel)",
   "language": "python",
   "name": "python3"
  },
  "language_info": {
   "codemirror_mode": {
    "name": "ipython",
    "version": 3
   },
   "file_extension": ".py",
   "mimetype": "text/x-python",
   "name": "python",
   "nbconvert_exporter": "python",
   "pygments_lexer": "ipython3",
   "version": "3.10.6"
  },
  "vscode": {
   "interpreter": {
    "hash": "916dbcbb3f70747c44a77c7bcd40155683ae19c65e1c03b4aa3499c5328201f1"
   }
  }
 },
 "nbformat": 4,
 "nbformat_minor": 4
}
